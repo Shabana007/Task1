{
 "cells": [
  {
   "cell_type": "code",
   "execution_count": 4,
   "id": "0a5f5aeb",
   "metadata": {},
   "outputs": [
    {
     "data": {
      "text/plain": [
       "set()"
      ]
     },
     "execution_count": 4,
     "metadata": {},
     "output_type": "execute_result"
    }
   ],
   "source": [
    "myset=set()\n",
    "myset"
   ]
  },
  {
   "cell_type": "code",
   "execution_count": 7,
   "id": "89b489fa",
   "metadata": {},
   "outputs": [],
   "source": [
    "myset.add(1)\n"
   ]
  },
  {
   "cell_type": "code",
   "execution_count": 8,
   "id": "11d09576",
   "metadata": {},
   "outputs": [
    {
     "data": {
      "text/plain": [
       "{1}"
      ]
     },
     "execution_count": 8,
     "metadata": {},
     "output_type": "execute_result"
    }
   ],
   "source": [
    "myset\n"
   ]
  },
  {
   "cell_type": "code",
   "execution_count": 9,
   "id": "8f84b1c3",
   "metadata": {},
   "outputs": [],
   "source": [
    "myset.add('two')"
   ]
  },
  {
   "cell_type": "code",
   "execution_count": 10,
   "id": "7fd7e11c",
   "metadata": {},
   "outputs": [
    {
     "data": {
      "text/plain": [
       "{1, 'two'}"
      ]
     },
     "execution_count": 10,
     "metadata": {},
     "output_type": "execute_result"
    }
   ],
   "source": [
    "myset"
   ]
  },
  {
   "cell_type": "code",
   "execution_count": 18,
   "id": "420e52fe",
   "metadata": {},
   "outputs": [
    {
     "data": {
      "text/plain": [
       "{1, 4, 6, 7, 8, 9}"
      ]
     },
     "execution_count": 18,
     "metadata": {},
     "output_type": "execute_result"
    }
   ],
   "source": [
    "listed=[1,6,4,7,8,9,9]\n",
    "set(listed)"
   ]
  },
  {
   "cell_type": "code",
   "execution_count": 19,
   "id": "b35d4691",
   "metadata": {},
   "outputs": [
    {
     "data": {
      "text/plain": [
       "{'4', 6, 'f', 't', 'y'}"
      ]
     },
     "execution_count": 19,
     "metadata": {},
     "output_type": "execute_result"
    }
   ],
   "source": [
    "t=('t','y','4','f',6)\n",
    "set(t)"
   ]
  },
  {
   "cell_type": "code",
   "execution_count": null,
   "id": "4c9647e1",
   "metadata": {},
   "outputs": [],
   "source": []
  }
 ],
 "metadata": {
  "kernelspec": {
   "display_name": "Python 3 (ipykernel)",
   "language": "python",
   "name": "python3"
  },
  "language_info": {
   "codemirror_mode": {
    "name": "ipython",
    "version": 3
   },
   "file_extension": ".py",
   "mimetype": "text/x-python",
   "name": "python",
   "nbconvert_exporter": "python",
   "pygments_lexer": "ipython3",
   "version": "3.9.13"
  }
 },
 "nbformat": 4,
 "nbformat_minor": 5
}
