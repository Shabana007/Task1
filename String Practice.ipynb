{
 "cells": [
  {
   "cell_type": "code",
   "execution_count": 1,
   "id": "3628b744",
   "metadata": {},
   "outputs": [],
   "source": [
    "mystring=\"faiza\"\n"
   ]
  },
  {
   "cell_type": "code",
   "execution_count": 2,
   "id": "77f80edc",
   "metadata": {},
   "outputs": [
    {
     "data": {
      "text/plain": [
       "'faiza'"
      ]
     },
     "execution_count": 2,
     "metadata": {},
     "output_type": "execute_result"
    }
   ],
   "source": [
    "string"
   ]
  },
  {
   "cell_type": "code",
   "execution_count": 3,
   "id": "2ce7e02e",
   "metadata": {},
   "outputs": [
    {
     "data": {
      "text/plain": [
       "'z'"
      ]
     },
     "execution_count": 3,
     "metadata": {},
     "output_type": "execute_result"
    }
   ],
   "source": [
    "string[3]"
   ]
  },
  {
   "cell_type": "code",
   "execution_count": 4,
   "id": "62859110",
   "metadata": {},
   "outputs": [
    {
     "data": {
      "text/plain": [
       "'i'"
      ]
     },
     "execution_count": 4,
     "metadata": {},
     "output_type": "execute_result"
    }
   ],
   "source": [
    "string[-3]"
   ]
  },
  {
   "cell_type": "code",
   "execution_count": 5,
   "id": "ac646146",
   "metadata": {},
   "outputs": [
    {
     "data": {
      "text/plain": [
       "'faiza'"
      ]
     },
     "execution_count": 5,
     "metadata": {},
     "output_type": "execute_result"
    }
   ],
   "source": [
    "string[:]"
   ]
  },
  {
   "cell_type": "code",
   "execution_count": 6,
   "id": "6653ef41",
   "metadata": {},
   "outputs": [
    {
     "data": {
      "text/plain": [
       "'aiza'"
      ]
     },
     "execution_count": 6,
     "metadata": {},
     "output_type": "execute_result"
    }
   ],
   "source": [
    "string[1:]"
   ]
  },
  {
   "cell_type": "code",
   "execution_count": 7,
   "id": "ca6a84ff",
   "metadata": {},
   "outputs": [
    {
     "data": {
      "text/plain": [
       "'faiz'"
      ]
     },
     "execution_count": 7,
     "metadata": {},
     "output_type": "execute_result"
    }
   ],
   "source": [
    "string[:4]"
   ]
  },
  {
   "cell_type": "code",
   "execution_count": 8,
   "id": "7c36e111",
   "metadata": {},
   "outputs": [
    {
     "data": {
      "text/plain": [
       "'faiza'"
      ]
     },
     "execution_count": 8,
     "metadata": {},
     "output_type": "execute_result"
    }
   ],
   "source": [
    "string[:5]"
   ]
  },
  {
   "cell_type": "code",
   "execution_count": 9,
   "id": "1b088ae7",
   "metadata": {},
   "outputs": [
    {
     "data": {
      "text/plain": [
       "'faiza'"
      ]
     },
     "execution_count": 9,
     "metadata": {},
     "output_type": "execute_result"
    }
   ],
   "source": [
    "string[::1]"
   ]
  },
  {
   "cell_type": "code",
   "execution_count": 10,
   "id": "97fff065",
   "metadata": {},
   "outputs": [
    {
     "data": {
      "text/plain": [
       "'fia'"
      ]
     },
     "execution_count": 10,
     "metadata": {},
     "output_type": "execute_result"
    }
   ],
   "source": [
    "string[::2]"
   ]
  },
  {
   "cell_type": "code",
   "execution_count": 11,
   "id": "796002f3",
   "metadata": {},
   "outputs": [
    {
     "data": {
      "text/plain": [
       "'faiz'"
      ]
     },
     "execution_count": 11,
     "metadata": {},
     "output_type": "execute_result"
    }
   ],
   "source": [
    "string[0:4:1]"
   ]
  },
  {
   "cell_type": "code",
   "execution_count": 12,
   "id": "bedfcd5d",
   "metadata": {},
   "outputs": [
    {
     "data": {
      "text/plain": [
       "'fa'"
      ]
     },
     "execution_count": 12,
     "metadata": {},
     "output_type": "execute_result"
    }
   ],
   "source": [
    "string[0:5:4]"
   ]
  },
  {
   "cell_type": "code",
   "execution_count": 13,
   "id": "d3749837",
   "metadata": {},
   "outputs": [
    {
     "data": {
      "text/plain": [
       "'faiza'"
      ]
     },
     "execution_count": 13,
     "metadata": {},
     "output_type": "execute_result"
    }
   ],
   "source": [
    "string"
   ]
  },
  {
   "cell_type": "code",
   "execution_count": 15,
   "id": "28e5d14d",
   "metadata": {},
   "outputs": [
    {
     "ename": "TypeError",
     "evalue": "'str' object does not support item assignment",
     "output_type": "error",
     "traceback": [
      "\u001b[1;31m---------------------------------------------------------------------------\u001b[0m",
      "\u001b[1;31mTypeError\u001b[0m                                 Traceback (most recent call last)",
      "\u001b[1;32m~\\AppData\\Local\\Temp\\ipykernel_10604\\2480056949.py\u001b[0m in \u001b[0;36m<module>\u001b[1;34m\u001b[0m\n\u001b[1;32m----> 1\u001b[1;33m \u001b[0mstring\u001b[0m\u001b[1;33m[\u001b[0m\u001b[1;36m5\u001b[0m\u001b[1;33m]\u001b[0m\u001b[1;33m=\u001b[0m\u001b[1;34m'r'\u001b[0m\u001b[1;33m\u001b[0m\u001b[1;33m\u001b[0m\u001b[0m\n\u001b[0m",
      "\u001b[1;31mTypeError\u001b[0m: 'str' object does not support item assignment"
     ]
    }
   ],
   "source": [
    "\n",
    "string[5]='r'"
   ]
  },
  {
   "cell_type": "code",
   "execution_count": 16,
   "id": "167d097f",
   "metadata": {},
   "outputs": [
    {
     "ename": "TypeError",
     "evalue": "'str' object does not support item assignment",
     "output_type": "error",
     "traceback": [
      "\u001b[1;31m---------------------------------------------------------------------------\u001b[0m",
      "\u001b[1;31mTypeError\u001b[0m                                 Traceback (most recent call last)",
      "\u001b[1;32m~\\AppData\\Local\\Temp\\ipykernel_10604\\2709369094.py\u001b[0m in \u001b[0;36m<module>\u001b[1;34m\u001b[0m\n\u001b[1;32m----> 1\u001b[1;33m \u001b[0mstring\u001b[0m\u001b[1;33m[\u001b[0m\u001b[1;36m3\u001b[0m\u001b[1;33m]\u001b[0m\u001b[1;33m=\u001b[0m\u001b[1;34m's'\u001b[0m\u001b[1;33m\u001b[0m\u001b[1;33m\u001b[0m\u001b[0m\n\u001b[0m",
      "\u001b[1;31mTypeError\u001b[0m: 'str' object does not support item assignment"
     ]
    }
   ],
   "source": [
    "string[3]='s'"
   ]
  },
  {
   "cell_type": "code",
   "execution_count": 2,
   "id": "016cf84f",
   "metadata": {},
   "outputs": [
    {
     "ename": "TypeError",
     "evalue": "'str' object does not support item assignment",
     "output_type": "error",
     "traceback": [
      "\u001b[1;31m---------------------------------------------------------------------------\u001b[0m",
      "\u001b[1;31mTypeError\u001b[0m                                 Traceback (most recent call last)",
      "\u001b[1;32m~\\AppData\\Local\\Temp\\ipykernel_7520\\4026753376.py\u001b[0m in \u001b[0;36m<module>\u001b[1;34m\u001b[0m\n\u001b[1;32m----> 1\u001b[1;33m \u001b[0mmystring\u001b[0m\u001b[1;33m[\u001b[0m\u001b[1;36m5\u001b[0m\u001b[1;33m]\u001b[0m\u001b[1;33m=\u001b[0m\u001b[1;34m's'\u001b[0m\u001b[1;33m\u001b[0m\u001b[1;33m\u001b[0m\u001b[0m\n\u001b[0m",
      "\u001b[1;31mTypeError\u001b[0m: 'str' object does not support item assignment"
     ]
    }
   ],
   "source": [
    "mystring[5]='s'"
   ]
  },
  {
   "cell_type": "code",
   "execution_count": 4,
   "id": "aae1fb5c",
   "metadata": {},
   "outputs": [
    {
     "data": {
      "text/plain": [
       "'faiza riaz'"
      ]
     },
     "execution_count": 4,
     "metadata": {},
     "output_type": "execute_result"
    }
   ],
   "source": [
    "letter=mystring[::]\n",
    "letter+' riaz'"
   ]
  },
  {
   "cell_type": "code",
   "execution_count": 5,
   "id": "c60589f6",
   "metadata": {},
   "outputs": [],
   "source": [
    "#strings are immmuteable\n"
   ]
  },
  {
   "cell_type": "code",
   "execution_count": 6,
   "id": "b8ca8a55",
   "metadata": {},
   "outputs": [],
   "source": [
    "letter='g'"
   ]
  },
  {
   "cell_type": "code",
   "execution_count": 7,
   "id": "d701b6fb",
   "metadata": {},
   "outputs": [
    {
     "data": {
      "text/plain": [
       "'g'"
      ]
     },
     "execution_count": 7,
     "metadata": {},
     "output_type": "execute_result"
    }
   ],
   "source": [
    "letter"
   ]
  },
  {
   "cell_type": "code",
   "execution_count": 11,
   "id": "fc03d0d1",
   "metadata": {},
   "outputs": [
    {
     "data": {
      "text/plain": [
       "'gggggggggg'"
      ]
     },
     "execution_count": 11,
     "metadata": {},
     "output_type": "execute_result"
    }
   ],
   "source": [
    "r=letter*10\n",
    "r"
   ]
  },
  {
   "cell_type": "code",
   "execution_count": 12,
   "id": "ec5d6f7c",
   "metadata": {},
   "outputs": [
    {
     "data": {
      "text/plain": [
       "'gggggggggg'"
      ]
     },
     "execution_count": 12,
     "metadata": {},
     "output_type": "execute_result"
    }
   ],
   "source": [
    "r"
   ]
  },
  {
   "cell_type": "code",
   "execution_count": 15,
   "id": "0a57d227",
   "metadata": {},
   "outputs": [
    {
     "data": {
      "text/plain": [
       "'Shabana Shabana Shabana Shabana Shabana Shabana '"
      ]
     },
     "execution_count": 15,
     "metadata": {},
     "output_type": "execute_result"
    }
   ],
   "source": [
    "m='Shabana '\n",
    "w=m*6\n",
    "w"
   ]
  },
  {
   "cell_type": "code",
   "execution_count": 16,
   "id": "4f176c4b",
   "metadata": {},
   "outputs": [
    {
     "data": {
      "text/plain": [
       "'23'"
      ]
     },
     "execution_count": 16,
     "metadata": {},
     "output_type": "execute_result"
    }
   ],
   "source": [
    "'2'+'3'"
   ]
  },
  {
   "cell_type": "code",
   "execution_count": 17,
   "id": "9dc8b6e8",
   "metadata": {},
   "outputs": [
    {
     "data": {
      "text/plain": [
       "5"
      ]
     },
     "execution_count": 17,
     "metadata": {},
     "output_type": "execute_result"
    }
   ],
   "source": [
    "2+3\n"
   ]
  },
  {
   "cell_type": "code",
   "execution_count": 19,
   "id": "467c029f",
   "metadata": {},
   "outputs": [
    {
     "data": {
      "text/plain": [
       "'black is beautiful'"
      ]
     },
     "execution_count": 19,
     "metadata": {},
     "output_type": "execute_result"
    }
   ],
   "source": [
    "x='black'\n",
    "x+' is beautiful'"
   ]
  },
  {
   "cell_type": "code",
   "execution_count": 20,
   "id": "b974e313",
   "metadata": {},
   "outputs": [
    {
     "data": {
      "text/plain": [
       "'BLACK'"
      ]
     },
     "execution_count": 20,
     "metadata": {},
     "output_type": "execute_result"
    }
   ],
   "source": [
    "x.upper()"
   ]
  },
  {
   "cell_type": "code",
   "execution_count": 2,
   "id": "b8d394c3",
   "metadata": {},
   "outputs": [
    {
     "data": {
      "text/plain": [
       "['sh', 'b', 'n', '1f', 'iz', '1s', 'h', 'r1sh', 'ist', '']"
      ]
     },
     "execution_count": 2,
     "metadata": {},
     "output_type": "execute_result"
    }
   ],
   "source": [
    "Z='shabana1faiza1sahar1shaista'\n",
    "Z.split('a')"
   ]
  },
  {
   "cell_type": "code",
   "execution_count": 4,
   "id": "1ab15fe3",
   "metadata": {},
   "outputs": [
    {
     "data": {
      "text/plain": [
       "['Da', 'a ', 'Science']"
      ]
     },
     "execution_count": 4,
     "metadata": {},
     "output_type": "execute_result"
    }
   ],
   "source": [
    "y='Data tScience'\n",
    "y.split('t')"
   ]
  },
  {
   "cell_type": "code",
   "execution_count": 6,
   "id": "3f77c0f5",
   "metadata": {},
   "outputs": [
    {
     "name": "stdout",
     "output_type": "stream",
     "text": [
      "flower is red\n"
     ]
    }
   ],
   "source": [
    "i='red'\n",
    "print('flower is '+i)"
   ]
  },
  {
   "cell_type": "code",
   "execution_count": 8,
   "id": "37e8fc46",
   "metadata": {},
   "outputs": [
    {
     "name": "stdout",
     "output_type": "stream",
     "text": [
      "this is a string inserted\n"
     ]
    }
   ],
   "source": [
    "print('this is a string {}'.format('inserted'))"
   ]
  },
  {
   "cell_type": "code",
   "execution_count": 11,
   "id": "ea086e79",
   "metadata": {},
   "outputs": [
    {
     "name": "stdout",
     "output_type": "stream",
     "text": [
      "the red green yelow\n"
     ]
    }
   ],
   "source": [
    "print('the {} {} {}'.format('red','green','yelow'))"
   ]
  },
  {
   "cell_type": "code",
   "execution_count": 12,
   "id": "365af264",
   "metadata": {},
   "outputs": [
    {
     "name": "stdout",
     "output_type": "stream",
     "text": [
      "Farmer has fox grains goose\n"
     ]
    }
   ],
   "source": [
    "print('Farmer has {f} {gr} {g}'.format(f='fox', g='goose',gr='grains'))"
   ]
  },
  {
   "cell_type": "code",
   "execution_count": 18,
   "id": "0ccc5d03",
   "metadata": {},
   "outputs": [
    {
     "data": {
      "text/plain": [
       "33.333333333333336"
      ]
     },
     "execution_count": 18,
     "metadata": {},
     "output_type": "execute_result"
    }
   ],
   "source": [
    "re=100/3\n",
    "re"
   ]
  },
  {
   "cell_type": "code",
   "execution_count": 20,
   "id": "67c53a7a",
   "metadata": {},
   "outputs": [
    {
     "name": "stdout",
     "output_type": "stream",
     "text": [
      "result is 33.333333333333336\n"
     ]
    }
   ],
   "source": [
    "print(\"result is {r}\".format(r=re))"
   ]
  },
  {
   "cell_type": "code",
   "execution_count": 22,
   "id": "235fc6d9",
   "metadata": {},
   "outputs": [
    {
     "name": "stdout",
     "output_type": "stream",
     "text": [
      "her name is shabana\n"
     ]
    }
   ],
   "source": [
    "name='shabana'\n",
    "print(f'her name is {name}')"
   ]
  },
  {
   "cell_type": "code",
   "execution_count": null,
   "id": "cc10fa69",
   "metadata": {},
   "outputs": [],
   "source": []
  }
 ],
 "metadata": {
  "kernelspec": {
   "display_name": "Python 3 (ipykernel)",
   "language": "python",
   "name": "python3"
  },
  "language_info": {
   "codemirror_mode": {
    "name": "ipython",
    "version": 3
   },
   "file_extension": ".py",
   "mimetype": "text/x-python",
   "name": "python",
   "nbconvert_exporter": "python",
   "pygments_lexer": "ipython3",
   "version": "3.9.13"
  }
 },
 "nbformat": 4,
 "nbformat_minor": 5
}
