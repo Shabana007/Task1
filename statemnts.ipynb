{
 "cells": [
  {
   "cell_type": "code",
   "execution_count": 1,
   "id": "bb4c48c0",
   "metadata": {},
   "outputs": [
    {
     "name": "stdout",
     "output_type": "stream",
     "text": [
      "great\n"
     ]
    }
   ],
   "source": [
    "if 5>2:\n",
    "    print('great')"
   ]
  },
  {
   "cell_type": "code",
   "execution_count": 4,
   "id": "2f5814f7",
   "metadata": {},
   "outputs": [
    {
     "name": "stdout",
     "output_type": "stream",
     "text": [
      "feed me\n"
     ]
    }
   ],
   "source": [
    "hungry=True\n",
    "if(hungry):\n",
    " print(\"feed me\")"
   ]
  },
  {
   "cell_type": "code",
   "execution_count": 6,
   "id": "aa92667b",
   "metadata": {},
   "outputs": [
    {
     "name": "stdout",
     "output_type": "stream",
     "text": [
      "i'm hungry\n"
     ]
    }
   ],
   "source": [
    "hungry=False\n",
    "if(hungry):\n",
    "    print(\"feed me\")\n",
    "else:\n",
    "    print(\"i'm hungry\")"
   ]
  },
  {
   "cell_type": "code",
   "execution_count": 12,
   "id": "6f8122f4",
   "metadata": {},
   "outputs": [
    {
     "name": "stdout",
     "output_type": "stream",
     "text": [
      "i dont know\n"
     ]
    }
   ],
   "source": [
    "loc='bank'\n",
    "if loc=='vectory':\n",
    "    print(\"cars are cool\")\n",
    "else:\n",
    "    print(\"i dont know\")"
   ]
  },
  {
   "cell_type": "code",
   "execution_count": 15,
   "id": "9f0f2f21",
   "metadata": {},
   "outputs": [
    {
     "name": "stdout",
     "output_type": "stream",
     "text": [
      "ohhh\n"
     ]
    }
   ],
   "source": [
    "loc='bank'\n",
    "if loc=='hg':\n",
    "  print(\"cool\")\n",
    "elif loc=='bank':\n",
    "    print(\"ohhh\")\n",
    "elif loc=='store':\n",
    "    print(\"ok\")\n",
    "else:\n",
    "    print(\"dont know\")\n"
   ]
  },
  {
   "cell_type": "code",
   "execution_count": null,
   "id": "e9ab61c1",
   "metadata": {},
   "outputs": [],
   "source": []
  }
 ],
 "metadata": {
  "kernelspec": {
   "display_name": "Python 3 (ipykernel)",
   "language": "python",
   "name": "python3"
  },
  "language_info": {
   "codemirror_mode": {
    "name": "ipython",
    "version": 3
   },
   "file_extension": ".py",
   "mimetype": "text/x-python",
   "name": "python",
   "nbconvert_exporter": "python",
   "pygments_lexer": "ipython3",
   "version": "3.9.13"
  }
 },
 "nbformat": 4,
 "nbformat_minor": 5
}
