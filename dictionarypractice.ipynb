{
 "cells": [
  {
   "cell_type": "code",
   "execution_count": 3,
   "id": "5214128a",
   "metadata": {},
   "outputs": [
    {
     "data": {
      "text/plain": [
       "400"
      ]
     },
     "execution_count": 3,
     "metadata": {},
     "output_type": "execute_result"
    }
   ],
   "source": [
    "my_dict={'key1':'3','key2':400,'key':32.0}\n",
    "my_dict['key2']\n"
   ]
  },
  {
   "cell_type": "code",
   "execution_count": 5,
   "id": "d672a562",
   "metadata": {},
   "outputs": [
    {
     "data": {
      "text/plain": [
       "32.0"
      ]
     },
     "execution_count": 5,
     "metadata": {},
     "output_type": "execute_result"
    }
   ],
   "source": [
    "my_dict['key']"
   ]
  },
  {
   "cell_type": "code",
   "execution_count": 6,
   "id": "18a00530",
   "metadata": {},
   "outputs": [
    {
     "data": {
      "text/plain": [
       "float"
      ]
     },
     "execution_count": 6,
     "metadata": {},
     "output_type": "execute_result"
    }
   ],
   "source": [
    "type(my_dict['key'])"
   ]
  },
  {
   "cell_type": "code",
   "execution_count": 7,
   "id": "2d61d62c",
   "metadata": {},
   "outputs": [
    {
     "data": {
      "text/plain": [
       "3"
      ]
     },
     "execution_count": 7,
     "metadata": {},
     "output_type": "execute_result"
    }
   ],
   "source": [
    "len(my_dict)"
   ]
  },
  {
   "cell_type": "code",
   "execution_count": 9,
   "id": "44f7c7cf",
   "metadata": {},
   "outputs": [
    {
     "data": {
      "text/plain": [
       "{'k1': 222, 'k2': [1, 2, 3], 'k3': 'shabana'}"
      ]
     },
     "execution_count": 9,
     "metadata": {},
     "output_type": "execute_result"
    }
   ],
   "source": [
    "d={'k1':222,'k2':[1,2,3],'k3':'shabana'}\n",
    "d"
   ]
  },
  {
   "cell_type": "code",
   "execution_count": 11,
   "id": "7109c5bb",
   "metadata": {},
   "outputs": [
    {
     "data": {
      "text/plain": [
       "[1, 2, 3]"
      ]
     },
     "execution_count": 11,
     "metadata": {},
     "output_type": "execute_result"
    }
   ],
   "source": [
    "d['k2']"
   ]
  },
  {
   "cell_type": "code",
   "execution_count": 17,
   "id": "7da8f6ea",
   "metadata": {},
   "outputs": [
    {
     "data": {
      "text/plain": [
       "3"
      ]
     },
     "execution_count": 17,
     "metadata": {},
     "output_type": "execute_result"
    }
   ],
   "source": [
    "d['k2'][2]"
   ]
  },
  {
   "cell_type": "code",
   "execution_count": 20,
   "id": "bbf19561",
   "metadata": {},
   "outputs": [
    {
     "data": {
      "text/plain": [
       "'b'"
      ]
     },
     "execution_count": 20,
     "metadata": {},
     "output_type": "execute_result"
    }
   ],
   "source": [
    "d['k3'][-4]"
   ]
  },
  {
   "cell_type": "markdown",
   "id": "ebc123a3",
   "metadata": {},
   "source": []
  },
  {
   "cell_type": "code",
   "execution_count": 2,
   "id": "c97576ef",
   "metadata": {
    "scrolled": true
   },
   "outputs": [
    {
     "data": {
      "text/plain": [
       "5"
      ]
     },
     "execution_count": 2,
     "metadata": {},
     "output_type": "execute_result"
    }
   ],
   "source": [
    "d={'k1':[1,2,3,4,5]}\n",
    "d['k1'][4]"
   ]
  },
  {
   "cell_type": "code",
   "execution_count": 3,
   "id": "bd86a90d",
   "metadata": {},
   "outputs": [
    {
     "data": {
      "text/plain": [
       "{'k1': ['a', 'b', 'c', 'd']}"
      ]
     },
     "execution_count": 3,
     "metadata": {},
     "output_type": "execute_result"
    }
   ],
   "source": [
    "d['k1']=['a','b','c','d']\n",
    "d"
   ]
  },
  {
   "cell_type": "code",
   "execution_count": 4,
   "id": "c1e7414a",
   "metadata": {},
   "outputs": [
    {
     "data": {
      "text/plain": [
       "dict_keys(['k1'])"
      ]
     },
     "execution_count": 4,
     "metadata": {},
     "output_type": "execute_result"
    }
   ],
   "source": [
    "d.keys()"
   ]
  },
  {
   "cell_type": "code",
   "execution_count": 5,
   "id": "2f88a398",
   "metadata": {},
   "outputs": [
    {
     "data": {
      "text/plain": [
       "dict_values([['a', 'b', 'c', 'd']])"
      ]
     },
     "execution_count": 5,
     "metadata": {},
     "output_type": "execute_result"
    }
   ],
   "source": [
    "d.values()"
   ]
  },
  {
   "cell_type": "code",
   "execution_count": 6,
   "id": "14a23192",
   "metadata": {},
   "outputs": [
    {
     "data": {
      "text/plain": [
       "dict_items([('k1', ['a', 'b', 'c', 'd'])])"
      ]
     },
     "execution_count": 6,
     "metadata": {},
     "output_type": "execute_result"
    }
   ],
   "source": [
    "d.items()"
   ]
  },
  {
   "cell_type": "code",
   "execution_count": 7,
   "id": "d374fa1c",
   "metadata": {},
   "outputs": [
    {
     "data": {
      "text/plain": [
       "{'k1': {'k2': 'hello'}}"
      ]
     },
     "execution_count": 7,
     "metadata": {},
     "output_type": "execute_result"
    }
   ],
   "source": [
    "d={'k1':{'k2':'hello'}}\n",
    "d"
   ]
  },
  {
   "cell_type": "code",
   "execution_count": 10,
   "id": "4be84403",
   "metadata": {},
   "outputs": [
    {
     "data": {
      "text/plain": [
       "{'k2': 'hello'}"
      ]
     },
     "execution_count": 10,
     "metadata": {},
     "output_type": "execute_result"
    }
   ],
   "source": [
    "r=d['k1']\n",
    "r"
   ]
  },
  {
   "cell_type": "code",
   "execution_count": 12,
   "id": "f23997f8",
   "metadata": {},
   "outputs": [
    {
     "data": {
      "text/plain": [
       "'h'"
      ]
     },
     "execution_count": 12,
     "metadata": {},
     "output_type": "execute_result"
    }
   ],
   "source": [
    "r['k2'][0]"
   ]
  },
  {
   "cell_type": "code",
   "execution_count": 13,
   "id": "d0c505ff",
   "metadata": {},
   "outputs": [
    {
     "data": {
      "text/plain": [
       "'hello'"
      ]
     },
     "execution_count": 13,
     "metadata": {},
     "output_type": "execute_result"
    }
   ],
   "source": [
    "d['k1']['k2']"
   ]
  },
  {
   "cell_type": "code",
   "execution_count": 6,
   "id": "3b67516b",
   "metadata": {},
   "outputs": [
    {
     "data": {
      "text/plain": [
       "'helo'"
      ]
     },
     "execution_count": 6,
     "metadata": {},
     "output_type": "execute_result"
    }
   ],
   "source": [
    "d={'k1':[{'nestkey':['this  is deep ', ['helo']]}]}\n",
    "d['k1'][0]['nestkey'][1][0]"
   ]
  },
  {
   "cell_type": "code",
   "execution_count": 9,
   "id": "33d7b426",
   "metadata": {},
   "outputs": [
    {
     "ename": "SyntaxError",
     "evalue": "invalid syntax (2206308463.py, line 1)",
     "output_type": "error",
     "traceback": [
      "\u001b[1;36m  File \u001b[1;32m\"C:\\Users\\Mian\\AppData\\Local\\Temp\\ipykernel_4368\\2206308463.py\"\u001b[1;36m, line \u001b[1;32m1\u001b[0m\n\u001b[1;33m    d={'k1'=[1,2,{'k2':['tricky',{'tough':[1,2],['hello']}]}]}\u001b[0m\n\u001b[1;37m           ^\u001b[0m\n\u001b[1;31mSyntaxError\u001b[0m\u001b[1;31m:\u001b[0m invalid syntax\n"
     ]
    }
   ],
   "source": [
    "d={'k1'=[1,2,{'k2':['tricky',{'tough':[1,2],['hello']}]}]}\n",
    "d"
   ]
  },
  {
   "cell_type": "code",
   "execution_count": null,
   "id": "83976cd5",
   "metadata": {},
   "outputs": [],
   "source": []
  }
 ],
 "metadata": {
  "kernelspec": {
   "display_name": "Python 3 (ipykernel)",
   "language": "python",
   "name": "python3"
  },
  "language_info": {
   "codemirror_mode": {
    "name": "ipython",
    "version": 3
   },
   "file_extension": ".py",
   "mimetype": "text/x-python",
   "name": "python",
   "nbconvert_exporter": "python",
   "pygments_lexer": "ipython3",
   "version": "3.9.13"
  }
 },
 "nbformat": 4,
 "nbformat_minor": 5
}
