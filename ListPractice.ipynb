{
 "cells": [
  {
   "cell_type": "code",
   "execution_count": 2,
   "id": "9409cbe2",
   "metadata": {},
   "outputs": [
    {
     "data": {
      "text/plain": [
       "['q', 'w', 'e', 'r', 't']"
      ]
     },
     "execution_count": 2,
     "metadata": {},
     "output_type": "execute_result"
    }
   ],
   "source": [
    "my_list=['q','w','e','r','t']\n",
    "my_list"
   ]
  },
  {
   "cell_type": "code",
   "execution_count": 1,
   "id": "0faf634d",
   "metadata": {},
   "outputs": [],
   "source": [
    "my_list=['shabana',100,4]"
   ]
  },
  {
   "cell_type": "code",
   "execution_count": 2,
   "id": "3891976a",
   "metadata": {},
   "outputs": [
    {
     "data": {
      "text/plain": [
       "['shabana', 100, 4]"
      ]
     },
     "execution_count": 2,
     "metadata": {},
     "output_type": "execute_result"
    }
   ],
   "source": [
    "my_list"
   ]
  },
  {
   "cell_type": "code",
   "execution_count": 3,
   "id": "0a8a349e",
   "metadata": {},
   "outputs": [
    {
     "data": {
      "text/plain": [
       "3"
      ]
     },
     "execution_count": 3,
     "metadata": {},
     "output_type": "execute_result"
    }
   ],
   "source": [
    "len(my_list)"
   ]
  },
  {
   "cell_type": "code",
   "execution_count": 4,
   "id": "53683214",
   "metadata": {},
   "outputs": [
    {
     "data": {
      "text/plain": [
       "['shabana', 100, 4]"
      ]
     },
     "execution_count": 4,
     "metadata": {},
     "output_type": "execute_result"
    }
   ],
   "source": [
    "my_list[:]"
   ]
  },
  {
   "cell_type": "code",
   "execution_count": 5,
   "id": "a407582c",
   "metadata": {},
   "outputs": [
    {
     "data": {
      "text/plain": [
       "['shabana', 4]"
      ]
     },
     "execution_count": 5,
     "metadata": {},
     "output_type": "execute_result"
    }
   ],
   "source": [
    "my_list[::2]"
   ]
  },
  {
   "cell_type": "code",
   "execution_count": 1,
   "id": "5475e72e",
   "metadata": {},
   "outputs": [
    {
     "ename": "NameError",
     "evalue": "name 'my_list' is not defined",
     "output_type": "error",
     "traceback": [
      "\u001b[1;31m---------------------------------------------------------------------------\u001b[0m",
      "\u001b[1;31mNameError\u001b[0m                                 Traceback (most recent call last)",
      "\u001b[1;32m~\\AppData\\Local\\Temp\\ipykernel_1096\\1356276273.py\u001b[0m in \u001b[0;36m<module>\u001b[1;34m\u001b[0m\n\u001b[1;32m----> 1\u001b[1;33m \u001b[0mmy_list\u001b[0m\u001b[1;33m[\u001b[0m\u001b[1;36m2\u001b[0m\u001b[1;33m]\u001b[0m\u001b[1;33m\u001b[0m\u001b[1;33m\u001b[0m\u001b[0m\n\u001b[0m",
      "\u001b[1;31mNameError\u001b[0m: name 'my_list' is not defined"
     ]
    }
   ],
   "source": [
    "my_list[2]"
   ]
  },
  {
   "cell_type": "code",
   "execution_count": 2,
   "id": "6b36bda9",
   "metadata": {},
   "outputs": [
    {
     "data": {
      "text/plain": [
       "['a', 'v', 'g', 'r', 'w', 2, 6, 7, 3, 4]"
      ]
     },
     "execution_count": 2,
     "metadata": {},
     "output_type": "execute_result"
    }
   ],
   "source": [
    "one_list=['a','v','g','r','w']\n",
    "two_list=[2,6,7,3,4]\n",
    "newlist=one_list+two_list\n",
    "newlist"
   ]
  },
  {
   "cell_type": "code",
   "execution_count": 3,
   "id": "8c1ecc73",
   "metadata": {},
   "outputs": [
    {
     "data": {
      "text/plain": [
       "['a', 'v', 'g', 'all', 'w', 2, 6, 7, 3, 4]"
      ]
     },
     "execution_count": 3,
     "metadata": {},
     "output_type": "execute_result"
    }
   ],
   "source": [
    "newlist[3]='all'\n",
    "newlist"
   ]
  },
  {
   "cell_type": "code",
   "execution_count": 4,
   "id": "88675d1d",
   "metadata": {},
   "outputs": [
    {
     "data": {
      "text/plain": [
       "'v'"
      ]
     },
     "execution_count": 4,
     "metadata": {},
     "output_type": "execute_result"
    }
   ],
   "source": [
    "newlist.pop(1)"
   ]
  },
  {
   "cell_type": "code",
   "execution_count": 5,
   "id": "cda41e20",
   "metadata": {},
   "outputs": [
    {
     "data": {
      "text/plain": [
       "'a'"
      ]
     },
     "execution_count": 5,
     "metadata": {},
     "output_type": "execute_result"
    }
   ],
   "source": [
    "newlist.pop(0)"
   ]
  },
  {
   "cell_type": "code",
   "execution_count": 6,
   "id": "2a85454a",
   "metadata": {},
   "outputs": [
    {
     "data": {
      "text/plain": [
       "'w'"
      ]
     },
     "execution_count": 6,
     "metadata": {},
     "output_type": "execute_result"
    }
   ],
   "source": [
    "newlist.pop(2)"
   ]
  },
  {
   "cell_type": "code",
   "execution_count": 7,
   "id": "a4bd10a4",
   "metadata": {},
   "outputs": [
    {
     "data": {
      "text/plain": [
       "4"
      ]
     },
     "execution_count": 7,
     "metadata": {},
     "output_type": "execute_result"
    }
   ],
   "source": [
    "newlist.pop(-1)"
   ]
  },
  {
   "cell_type": "code",
   "execution_count": 8,
   "id": "29c19992",
   "metadata": {},
   "outputs": [
    {
     "data": {
      "text/plain": [
       "6"
      ]
     },
     "execution_count": 8,
     "metadata": {},
     "output_type": "execute_result"
    }
   ],
   "source": [
    "newlist.pop(-3)"
   ]
  },
  {
   "cell_type": "code",
   "execution_count": 1,
   "id": "4986e077",
   "metadata": {},
   "outputs": [
    {
     "ename": "NameError",
     "evalue": "name 'newlist' is not defined",
     "output_type": "error",
     "traceback": [
      "\u001b[1;31m---------------------------------------------------------------------------\u001b[0m",
      "\u001b[1;31mNameError\u001b[0m                                 Traceback (most recent call last)",
      "\u001b[1;32m~\\AppData\\Local\\Temp\\ipykernel_5844\\2845689194.py\u001b[0m in \u001b[0;36m<module>\u001b[1;34m\u001b[0m\n\u001b[1;32m----> 1\u001b[1;33m \u001b[0mpoppeditems\u001b[0m\u001b[1;33m=\u001b[0m\u001b[0mnewlist\u001b[0m\u001b[1;33m.\u001b[0m\u001b[0mpop\u001b[0m\u001b[1;33m(\u001b[0m\u001b[1;33m)\u001b[0m\u001b[1;33m\u001b[0m\u001b[1;33m\u001b[0m\u001b[0m\n\u001b[0m\u001b[0;32m      2\u001b[0m \u001b[0mpoppeditems\u001b[0m\u001b[1;33m\u001b[0m\u001b[1;33m\u001b[0m\u001b[0m\n",
      "\u001b[1;31mNameError\u001b[0m: name 'newlist' is not defined"
     ]
    }
   ],
   "source": [
    "poppeditems=newlist.pop()\n",
    "poppeditems"
   ]
  },
  {
   "cell_type": "code",
   "execution_count": 4,
   "id": "8163aaec",
   "metadata": {},
   "outputs": [
    {
     "data": {
      "text/plain": [
       "['aple', 'banana', 'oranges']"
      ]
     },
     "execution_count": 4,
     "metadata": {},
     "output_type": "execute_result"
    }
   ],
   "source": [
    "fruits=['aple','banana','oranges']\n",
    "fruits.sort()\n",
    "fruits"
   ]
  },
  {
   "cell_type": "code",
   "execution_count": 6,
   "id": "ffc612f5",
   "metadata": {},
   "outputs": [
    {
     "data": {
      "text/plain": [
       "[1, 2, 3, 3, 4, 7, 8]"
      ]
     },
     "execution_count": 6,
     "metadata": {},
     "output_type": "execute_result"
    }
   ],
   "source": [
    "numbr=[1,7,3,4,8,2,3]\n",
    "numbr.sort()\n",
    "numbr"
   ]
  },
  {
   "cell_type": "code",
   "execution_count": 9,
   "id": "e27a42d9",
   "metadata": {},
   "outputs": [
    {
     "data": {
      "text/plain": [
       "[1, 2, 3, 3, 4, 7, 8]"
      ]
     },
     "execution_count": 9,
     "metadata": {},
     "output_type": "execute_result"
    }
   ],
   "source": [
    "numbr"
   ]
  },
  {
   "cell_type": "code",
   "execution_count": 14,
   "id": "e7719159",
   "metadata": {},
   "outputs": [
    {
     "data": {
      "text/plain": [
       "[8, 7, 4, 3, 3, 2, 1]"
      ]
     },
     "execution_count": 14,
     "metadata": {},
     "output_type": "execute_result"
    }
   ],
   "source": [
    "numbr.reverse()\n",
    "numbr"
   ]
  },
  {
   "cell_type": "code",
   "execution_count": 19,
   "id": "04cd0187",
   "metadata": {},
   "outputs": [
    {
     "data": {
      "text/plain": [
       "['a', 'e', 'g', 'q', 'w']"
      ]
     },
     "execution_count": 19,
     "metadata": {},
     "output_type": "execute_result"
    }
   ],
   "source": [
    "alpha=['a','g','e','q','w']\n",
    "alpha.sort()\n",
    "alpha"
   ]
  },
  {
   "cell_type": "code",
   "execution_count": 20,
   "id": "1ff44d1c",
   "metadata": {},
   "outputs": [
    {
     "data": {
      "text/plain": [
       "['w', 'q', 'g', 'e', 'a']"
      ]
     },
     "execution_count": 20,
     "metadata": {},
     "output_type": "execute_result"
    }
   ],
   "source": [
    "alpha.reverse()\n",
    "alpha"
   ]
  },
  {
   "cell_type": "code",
   "execution_count": 21,
   "id": "c1aa7d52",
   "metadata": {},
   "outputs": [
    {
     "data": {
      "text/plain": [
       "['w', 'q', 'g', 'e', 'a', 'z']"
      ]
     },
     "execution_count": 21,
     "metadata": {},
     "output_type": "execute_result"
    }
   ],
   "source": [
    "alpha.append('z')\n",
    "alpha"
   ]
  },
  {
   "cell_type": "code",
   "execution_count": 27,
   "id": "c04d92a6",
   "metadata": {},
   "outputs": [
    {
     "data": {
      "text/plain": [
       "[8,\n",
       " 7,\n",
       " 4,\n",
       " 3,\n",
       " 3,\n",
       " 2,\n",
       " 1,\n",
       " ['w', 'q', 'g', 'e', 'a', 'z'],\n",
       " ['w', 'q', 'g', 'e', 'a', 'z'],\n",
       " ['w', 'q', 'g', 'e', 'a', 'z'],\n",
       " ['w', 'q', 'g', 'e', 'a', 'z'],\n",
       " ['w', 'q', 'g', 'e', 'a', 'z'],\n",
       " ['w', 'q', 'g', 'e', 'a', 'z']]"
      ]
     },
     "execution_count": 27,
     "metadata": {},
     "output_type": "execute_result"
    }
   ],
   "source": [
    "numbr.append(alpha)\n",
    "alpha\n",
    "numbr"
   ]
  },
  {
   "cell_type": "code",
   "execution_count": 28,
   "id": "bfb3adda",
   "metadata": {},
   "outputs": [
    {
     "data": {
      "text/plain": [
       "list"
      ]
     },
     "execution_count": 28,
     "metadata": {},
     "output_type": "execute_result"
    }
   ],
   "source": [
    "type(numbr)"
   ]
  },
  {
   "cell_type": "code",
   "execution_count": null,
   "id": "8b5ee368",
   "metadata": {},
   "outputs": [],
   "source": []
  }
 ],
 "metadata": {
  "kernelspec": {
   "display_name": "Python 3 (ipykernel)",
   "language": "python",
   "name": "python3"
  },
  "language_info": {
   "codemirror_mode": {
    "name": "ipython",
    "version": 3
   },
   "file_extension": ".py",
   "mimetype": "text/x-python",
   "name": "python",
   "nbconvert_exporter": "python",
   "pygments_lexer": "ipython3",
   "version": "3.9.13"
  }
 },
 "nbformat": 4,
 "nbformat_minor": 5
}
